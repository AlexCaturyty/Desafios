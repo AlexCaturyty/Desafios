{
  "nbformat": 4,
  "nbformat_minor": 0,
  "metadata": {
    "colab": {
      "provenance": [],
      "authorship_tag": "ABX9TyN6KFXBhYZLtuUWS5BZ5Vd6",
      "include_colab_link": true
    },
    "kernelspec": {
      "name": "python3",
      "display_name": "Python 3"
    },
    "language_info": {
      "name": "python"
    }
  },
  "cells": [
    {
      "cell_type": "markdown",
      "metadata": {
        "id": "view-in-github",
        "colab_type": "text"
      },
      "source": [
        "<a href=\"https://colab.research.google.com/github/AlexCaturyty/Desafios/blob/main/Desafios.ipynb\" target=\"_parent\"><img src=\"https://colab.research.google.com/assets/colab-badge.svg\" alt=\"Open In Colab\"/></a>"
      ]
    },
    {
      "cell_type": "code",
      "execution_count": null,
      "metadata": {
        "id": "qQOzT37tWPL8",
        "colab": {
          "base_uri": "https://localhost:8080/"
        },
        "outputId": "c20c3666-666e-4c73-b4d1-fb246b152da9"
      },
      "outputs": [
        {
          "output_type": "stream",
          "name": "stdout",
          "text": [
            "91\n"
          ]
        }
      ],
      "source": [
        "INDICE = 13\n",
        "SOMA = 0\n",
        "K = 0\n",
        "\n",
        "while K < INDICE:\n",
        "    K = K + 1\n",
        "    SOMA = SOMA + K\n",
        "\n",
        "print(SOMA)\n"
      ]
    },
    {
      "cell_type": "code",
      "source": [
        "def fibonacci_sequence(n):\n",
        "    fib_sequence = [0, 1]\n",
        "\n",
        "    while fib_sequence[-1] < n:\n",
        "        next_fib = fib_sequence[-1] + fib_sequence[-2]\n",
        "        fib_sequence.append(next_fib)\n",
        "\n",
        "    return fib_sequence\n",
        "\n",
        "def verifica_numero_na_fibonacci(numero, fib_sequence):\n",
        "    if numero in fib_sequence:\n",
        "        return True\n",
        "    else:\n",
        "        return False\n",
        "\n",
        "numero_verificar = int(input(\"Digite um número para verificar se está na sequência de Fibonacci: \"))\n",
        "\n",
        "sequencia_fibonacci = fibonacci_sequence(numero_verificar)\n",
        "\n",
        "if verifica_numero_na_fibonacci(numero_verificar, sequencia_fibonacci):\n",
        "    print(f\"O número {numero_verificar} pertence à sequência de Fibonacci.\")\n",
        "else:\n",
        "    print(f\"O número {numero_verificar} NÃO pertence à sequência de Fibonacci.\")\n"
      ],
      "metadata": {
        "colab": {
          "base_uri": "https://localhost:8080/"
        },
        "id": "mByNqPape71v",
        "outputId": "e4d85366-bced-402b-a16f-d7116272e8ad"
      },
      "execution_count": null,
      "outputs": [
        {
          "output_type": "stream",
          "name": "stdout",
          "text": [
            "Digite um número para verificar se está na sequência de Fibonacci: 3\n",
            "O número 3 pertence à sequência de Fibonacci.\n"
          ]
        }
      ]
    },
    {
      "cell_type": "code",
      "source": [
        "def inverte_string(string):\n",
        "    return string[::-1]\n",
        "\n",
        "string_original = \"Hello, World!\"\n",
        "string_invertida = inverte_string(string_original)\n",
        "print(\"String original:\", string_original)\n",
        "print(\"String invertida:\", string_invertida)\n"
      ],
      "metadata": {
        "colab": {
          "base_uri": "https://localhost:8080/"
        },
        "id": "XpV04HvxhDPo",
        "outputId": "b2200f87-5fc6-4eb9-8c92-6baad42cb83d"
      },
      "execution_count": null,
      "outputs": [
        {
          "output_type": "stream",
          "name": "stdout",
          "text": [
            "String original: Hello, World!\n",
            "String invertida: !dlroW ,olleH\n"
          ]
        }
      ]
    }
  ]
}